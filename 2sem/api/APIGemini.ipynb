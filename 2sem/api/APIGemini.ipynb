{
 "cells": [
  {
   "cell_type": "code",
   "execution_count": 18,
   "id": "05f19dac-cfc6-4cec-90d3-99b91136c53a",
   "metadata": {},
   "outputs": [
    {
     "name": "stdin",
     "output_type": "stream",
     "text": [
      "Entre com as informações:  Caros alunos vocês já estão quase terminando o primeiro ano da graduação.\n",
      "Entre com a língua de destino:  Inglês\n"
     ]
    },
    {
     "name": "stdout",
     "output_type": "stream",
     "text": [
      "{\n",
      "\"lingua_origem\": \"Portugues\",\n",
      "\"texto_origem\": \"Caros alunos vocês já estão quase terminando o primeiro ano da graduação.\",\n",
      "\"lingua_destino\":\"Inglês\",\n",
      "\"texto_destino\": \"Dear students, you are almost finishing the first year of your undergraduate degree.\"\n",
      "}\n",
      "\n"
     ]
    }
   ],
   "source": [
    "\"\"\"\n",
    "Install the Google AI Python SDK\n",
    "\n",
    "$ pip install google-generativeai\n",
    "\"\"\"\n",
    "\n",
    "import os\n",
    "import google.generativeai as genai\n",
    "\n",
    "genai.configure(api_key=\"\")\n",
    "\n",
    "# Create the model\n",
    "generation_config = {\n",
    "  \"temperature\": 1,\n",
    "  \"top_p\": 0.95,\n",
    "  \"top_k\": 64,\n",
    "  \"max_output_tokens\": 8192,\n",
    "  \"response_mime_type\": \"text/plain\",\n",
    "}\n",
    "\n",
    "\n",
    "texto = input(\"Entre com as informações: \")\n",
    "lingua_destino = input(\"Entre com a língua de destino: \")\n",
    "\n",
    "model = genai.GenerativeModel(\n",
    "  model_name=\"gemini-1.5-flash\",\n",
    "  generation_config=generation_config,\n",
    "  # safety_settings = Adjust safety settings\n",
    "  # See https://ai.google.dev/gemini-api/docs/safety-settings\n",
    "  system_instruction='''Você agora é um tradutor de línguas, \n",
    "                      onde o usuário deverá lhe informar o texto e a língua de destino,\n",
    "                      você deverá detectar a língua de origem, \n",
    "                      O retorno desta solicitação deverá ser \n",
    "                      necessariamente no formato JSON \n",
    "                      conforme o exemplo a seguir:\n",
    "                      {\n",
    "                          \"lingua_origem\": \"Portugues\",\n",
    "                          \"texto_origem\": \"Olá\",\n",
    "                          \"lingua_destino\":\"Ingles\",\n",
    "                          \"texto_destino\": \"Hi\"\n",
    "                        }\n",
    "                        observação: não inclua o termo JSON na sáida.\n",
    "                        '''\n",
    ")\n",
    "\n",
    "chat_session = model.start_chat(\n",
    "  history=[\n",
    "    {\n",
    "      \"role\": \"user\",\n",
    "      \"parts\": [\n",
    "        f\"{texto}: a língua de destino é :{lingua_destino}\",\n",
    "      ],\n",
    "    },\n",
    "  ]\n",
    ")\n",
    "\n",
    "response = chat_session.send_message(texto)\n",
    "\n",
    "\n",
    "\n",
    "print(response.text)\n"
   ]
  },
  {
   "cell_type": "code",
   "execution_count": 19,
   "id": "23e82f3a-4efb-4ce2-bb8a-6a5f68958e8b",
   "metadata": {},
   "outputs": [],
   "source": [
    "\n",
    "\n",
    "#print (response)\n",
    "\n",
    "\n"
   ]
  },
  {
   "cell_type": "code",
   "execution_count": 20,
   "id": "5fb0bc8a-ddf6-459c-acdb-5f29f099bbd4",
   "metadata": {},
   "outputs": [
    {
     "name": "stdout",
     "output_type": "stream",
     "text": [
      "{'lingua_origem': 'Portugues', 'texto_origem': 'Caros alunos vocês já estão quase terminando o primeiro ano da graduação.', 'lingua_destino': 'Inglês', 'texto_destino': 'Dear students, you are almost finishing the first year of your undergraduate degree.'}\n",
      "\n",
      "A língua de origem detectada: Portugues\n",
      "O texto digitado foi: Caros alunos vocês já estão quase terminando o primeiro ano da graduação.\n",
      "A língua de destino solicitada: Inglês\n",
      "O texto traduzido: Dear students, you are almost finishing the first year of your undergraduate degree.\n"
     ]
    }
   ],
   "source": [
    "import json\n",
    "texto_retorno = json.loads(response.text)\n",
    "print (texto_retorno)\n",
    "print ()\n",
    "print (f\"A língua de origem detectada: {texto_retorno['lingua_origem']}\")\n",
    "print (f\"O texto digitado foi: {texto_retorno['texto_origem']}\")\n",
    "print (f\"A língua de destino solicitada: {texto_retorno['lingua_destino']}\")\n",
    "print (f\"O texto traduzido: {texto_retorno['texto_destino']}\")\n"
   ]
  },
  {
   "cell_type": "code",
   "execution_count": null,
   "id": "e31e5252-07ee-4ef5-9e11-d224315bee22",
   "metadata": {},
   "outputs": [],
   "source": []
  }
 ],
 "metadata": {
  "kernelspec": {
   "display_name": "Python 3 (ipykernel)",
   "language": "python",
   "name": "python3"
  },
  "language_info": {
   "codemirror_mode": {
    "name": "ipython",
    "version": 3
   },
   "file_extension": ".py",
   "mimetype": "text/x-python",
   "name": "python",
   "nbconvert_exporter": "python",
   "pygments_lexer": "ipython3",
   "version": "3.12.2"
  }
 },
 "nbformat": 4,
 "nbformat_minor": 5
}
