{
 "cells": [
  {
   "cell_type": "code",
   "execution_count": 2,
   "id": "797df836-b6a4-4054-8aba-82895f2271a3",
   "metadata": {},
   "outputs": [],
   "source": [
    "#### CRUD VEÍCULOS\n",
    "import datetime as dt\n",
    "veiculos = []\n",
    "categorias = (\"1 - motor\",\"2 - câmbio\",\"3 - pneus\",\"4 - freios\",\"5 - suspenção\",\"6- arrefecimento\",\"7 - funilaria\",\"8 - elétrico\", \"9 - tapeçaria\",\"10 - revisão\")\n",
    "\n",
    "def create_car (cliente,modelo=\"vazio\",ano=\"vazio\", placa =\"vazio\",problema=\"vazio\",categoria=-1):\n",
    "    data = dt.datetime.now()\n",
    "    veiculo = {\n",
    "        \"cliente\":cliente,\n",
    "        \"data\":data,\n",
    "        \"modelo\":modelo,\n",
    "        \"ano\":ano,\n",
    "        \"placa\":placa,\n",
    "        \"problema\":problema,\n",
    "        \"categoria\":categoria\n",
    "    }\n",
    "    veiculos.append(veiculo)\n",
    "    return len(veiculos)\n",
    "    \n",
    "def read_car(indice=-1):\n",
    "    if indice >-1 and indice < len(veiculos):\n",
    "        return veiculos[indice]\n",
    "    else:\n",
    "        return veiculos\n",
    "\n",
    "def update_car (indice, cliente=\"0\",modelo=\"0\",ano=\"0\", placa = \"0\",problema=\"0\",categoria=-1,desc_reparo=\"0\"):\n",
    "    if indice < len(veiculos):\n",
    "        if cliente!=\"0\":\n",
    "            veiculos[indice].update({\"cliente\":cliente})\n",
    "        if modelo!=\"0\":\n",
    "            veiculos[indice].update({\"modelo\":modelo})\n",
    "        if ano!=\"0\":\n",
    "            veiculos[indice].update({\"ano\":ano})\n",
    "        if placa!=\"0\":\n",
    "            veiculos[indice].update({\"placa\":placa})\n",
    "        if problema!=\"0\":\n",
    "            veiculos[indice].update({\"problema\":problema})\n",
    "        if categoria!=\"0\":\n",
    "            veiculos[indice].update({\"categoria\":categoria})\n",
    "        if desc_reparo !=\"0\":\n",
    "            veiculos[indice][\"desc_reparo\"]=desc_reparo\n",
    "            veiculos[indice][\"data_saida\"] = dt.datetime.now()\n",
    "        return True\n",
    "    else:\n",
    "        return False\n",
    "    \n",
    "def delete_car (indice):\n",
    "    if indice < len(veiculos):\n",
    "        veiculos.pop(indice)\n",
    "        return True\n",
    "    else:\n",
    "        return False\n"
   ]
  },
  {
   "cell_type": "code",
   "execution_count": 9,
   "id": "0bfce1dd-1b25-4ced-9972-7e0dd78c6575",
   "metadata": {},
   "outputs": [
    {
     "name": "stdout",
     "output_type": "stream",
     "text": [
      "Escolha as seguintes opções:\n",
      "1 - Incluir Veículo\n",
      "2 - Atualizar Veículo\n",
      "3 - Listar Veículos\n",
      "4 - Dar a saída de um veículo\n",
      "5 - Para sair do programa.\n"
     ]
    },
    {
     "name": "stdin",
     "output_type": "stream",
     "text": [
      "Digite a sua opção: 3\n"
     ]
    },
    {
     "name": "stdout",
     "output_type": "stream",
     "text": [
      "cliente:Alberto\n",
      "data:2024-08-27 19:25:07.468517\n",
      "modelo:spin\n",
      "ano:2020\n",
      "placa:dsk0001\n",
      "problema:pneu dianteiro direito\n",
      "categoria:3\n",
      "\n",
      "cliente:Arthur\n",
      "data:2024-08-27 19:28:38.953763\n",
      "modelo:monza\n",
      "ano:1994\n",
      "placa:bjj1313\n",
      "problema:faróis\n",
      "categoria:8\n",
      "\n",
      "Escolha as seguintes opções:\n",
      "1 - Incluir Veículo\n",
      "2 - Atualizar Veículo\n",
      "3 - Listar Veículos\n",
      "4 - Dar a saída de um veículo\n",
      "5 - Para sair do programa.\n"
     ]
    },
    {
     "name": "stdin",
     "output_type": "stream",
     "text": [
      "Digite a sua opção: 4\n"
     ]
    },
    {
     "name": "stdout",
     "output_type": "stream",
     "text": [
      "0\tAlberto\n",
      "1\tArthur\n"
     ]
    },
    {
     "name": "stdin",
     "output_type": "stream",
     "text": [
      "Qual veículo deseja dar a saída: 1\n",
      "Digite a descrição dos reparos: trocados todos os farois\n"
     ]
    },
    {
     "name": "stdout",
     "output_type": "stream",
     "text": [
      "True\n",
      "Escolha as seguintes opções:\n",
      "1 - Incluir Veículo\n",
      "2 - Atualizar Veículo\n",
      "3 - Listar Veículos\n",
      "4 - Dar a saída de um veículo\n",
      "5 - Para sair do programa.\n"
     ]
    },
    {
     "name": "stdin",
     "output_type": "stream",
     "text": [
      "Digite a sua opção: 3\n"
     ]
    },
    {
     "name": "stdout",
     "output_type": "stream",
     "text": [
      "cliente:Alberto\n",
      "data:2024-08-27 19:25:07.468517\n",
      "modelo:spin\n",
      "ano:2020\n",
      "placa:dsk0001\n",
      "problema:pneu dianteiro direito\n",
      "categoria:3\n",
      "\n",
      "cliente:Arthur\n",
      "data:2024-08-27 19:28:38.953763\n",
      "modelo:monza\n",
      "ano:1994\n",
      "placa:bjj1313\n",
      "problema:faróis\n",
      "categoria:-1\n",
      "desc_reparo:trocados todos os farois\n",
      "data_saida:2024-08-27 19:51:01.036046\n",
      "\n",
      "Escolha as seguintes opções:\n",
      "1 - Incluir Veículo\n",
      "2 - Atualizar Veículo\n",
      "3 - Listar Veículos\n",
      "4 - Dar a saída de um veículo\n",
      "5 - Para sair do programa.\n"
     ]
    },
    {
     "name": "stdin",
     "output_type": "stream",
     "text": [
      "Digite a sua opção: 5\n"
     ]
    }
   ],
   "source": [
    "#### Fazendo o menu\n",
    "#from crud import *\n",
    "\n",
    "while True:\n",
    "    print (\"Escolha as seguintes opções:\\n1 - Incluir Veículo\\n2 - Atualizar Veículo\\n3 - Listar Veículos\\n4 - Dar a saída de um veículo\\n5 - Para sair do programa.\")\n",
    "    op = input (\"Digite a sua opção:\")\n",
    "    match op:\n",
    "        case \"1\":\n",
    "            cliente = input (\"Digite o nome do cliente:\")\n",
    "            modelo = input (\"Digite o modelo do veículo:\")\n",
    "            ano = input (\"Digite o ano do veículo:\")\n",
    "            placa = input (\"Digite a placa do veículo:\")\n",
    "            problema = input (\"Digite o problema do veículo:\")\n",
    "            print (\"Selecione uma categoria:\")\n",
    "            print (categorias)\n",
    "            categoria = input (\"Digite o ID da categoria válido:\")\n",
    "            if categoria.isnumeric() and int(categoria) >= 0 and int(categoria) < len(categorias):\n",
    "                print (create_car(cliente,modelo,ano,placa,problema,int(categoria)))\n",
    "            else:\n",
    "                print (\"\\n\\nDigite uma categoria válida!!!\\n\\n\")\n",
    "                continue\n",
    "\n",
    "        case \"2\":\n",
    "            carros = read_car()\n",
    "            for index,carro in enumerate(carros):\n",
    "                print (f\"{index}\\t{carro[\"cliente\"]}\")\n",
    "            indice_veiculo = input (\"Qual veículo deseja atualizar:\")\n",
    "            if indice_veiculo.isnumeric() and int(indice_veiculo) >= 0 and int(indice_veiculo) < len(carros):\n",
    "                cliente = input (\"Digite o nome do cliente:\")\n",
    "                modelo = input (\"Digite o modelo do veículo:\")\n",
    "                ano = input (\"Digite o ano do veículo:\")\n",
    "                placa = input (\"Digite a placa do veículo:\")\n",
    "                problema = input (\"Digite o problema do veículo:\")\n",
    "                print (\"Selecione uma categoria:\")\n",
    "                print (categorias)\n",
    "                categoria = input (\"Digite o ID da categoria válido:\")\n",
    "                if categoria.isnumeric() and int(categoria) >= 0 and int(categoria) < len(categorias):\n",
    "                    print (update_car(int(indice_veiculo),cliente,modelo,ano,placa,problema,categoria))\n",
    "                else:\n",
    "                    print (\"\\n\\nDigite uma categoria válida!!!\\n\\n\")\n",
    "                    continue\n",
    "            else:\n",
    "                print (\"\\n\\nDigite um veículo válido!!!\\n\\n\")\n",
    "                continue\n",
    "        case \"3\":\n",
    "            carros = read_car()\n",
    "            for carro in carros:\n",
    "                for chave,valor in carro.items():\n",
    "                    print (f\"{chave}:{valor}\")\n",
    "                print ()\n",
    "        case \"4\":\n",
    "            carros = read_car()\n",
    "            for index,carro in enumerate(carros):\n",
    "                print (f\"{index}\\t{carro[\"cliente\"]}\")\n",
    "            indice_veiculo = input (\"Qual veículo deseja dar a saída:\")\n",
    "            if indice_veiculo.isnumeric() and int(indice_veiculo) >= 0 and int(indice_veiculo) < len(carros):\n",
    "                desc_reparo_i = input (\"Digite a descrição dos reparos:\")\n",
    "                print (update_car(int(indice_veiculo),desc_reparo=desc_reparo_i))\n",
    "            else:\n",
    "                print (\"\\n\\nDigite um veículo válido!!!\\n\\n\")\n",
    "                continue\n",
    "            \n",
    "            \n",
    "        case \"5\":\n",
    "            break\n",
    "        case _:\n",
    "            (\"\\nDigite a sua opção válida!!!\\n\")\n",
    "\n"
   ]
  },
  {
   "cell_type": "code",
   "execution_count": 34,
   "id": "c8ccd8e5-0d23-44cc-beb0-0b89fb798bb3",
   "metadata": {},
   "outputs": [
    {
     "name": "stdout",
     "output_type": "stream",
     "text": [
      "2\n",
      "0\tAlberto\n",
      "1\tAlberto\n"
     ]
    }
   ],
   "source": [
    "carros = read_car()\n",
    "print(len(carros))\n",
    "for index,carro in enumerate(carros):\n",
    "    print (f\"{index}\\t{carro[\"cliente\"]}\")\n",
    "    #nome = input (\"Qual veículo deseja atualizar:\")"
   ]
  },
  {
   "cell_type": "code",
   "execution_count": null,
   "id": "51f3c208-9157-4383-b76e-f4f99ee01de5",
   "metadata": {},
   "outputs": [],
   "source": []
  }
 ],
 "metadata": {
  "kernelspec": {
   "display_name": "Python 3 (ipykernel)",
   "language": "python",
   "name": "python3"
  },
  "language_info": {
   "codemirror_mode": {
    "name": "ipython",
    "version": 3
   },
   "file_extension": ".py",
   "mimetype": "text/x-python",
   "name": "python",
   "nbconvert_exporter": "python",
   "pygments_lexer": "ipython3",
   "version": "3.12.2"
  }
 },
 "nbformat": 4,
 "nbformat_minor": 5
}
