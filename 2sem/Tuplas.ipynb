{
 "cells": [
  {
   "cell_type": "markdown",
   "id": "c86f3005-50f3-4b3a-a28b-eac4fb723044",
   "metadata": {},
   "source": [
    "### Tuplas\n",
    "Tuplas (tipo tuple)\n",
    "Uma tupla (tuple) em Python é uma sequência imutável de valores de qualquer tipo. Para criar uma tupla, lista-se uma sequência de valores separados por vírgulas e, opcionalmente, entre parênteses.\n",
    "\n",
    "Tuplas são úteis para representar registros (mas sem atribuir nomes aos campos). Um registro é uma coleção de valores relacionados. Num registro representado como uma tupla, é a posição do valor dentro da tupla que determina o seu significado."
   ]
  },
  {
   "cell_type": "code",
   "execution_count": 6,
   "id": "5fdeda12-f754-46b9-b2b7-15923e63b608",
   "metadata": {},
   "outputs": [
    {
     "name": "stdout",
     "output_type": "stream",
     "text": [
      "Primeira tupla:  (198834, 'Alberto Messias', 41, 'Ciência da Computação') Tipo:  <class 'tuple'>\n",
      "Segunda tupla:  (1984727, 'Roberto Silva', 25, 'Educação Física') Tipo:  <class 'tuple'>\n",
      "Tamanho da primeira tupla:  4\n",
      "Valor de uma posição da primeira tupla:  Alberto Messias\n",
      "Uma fatia da segunda tupla:  ('Roberto Silva', 25)\n",
      "Todos os elementos da segunda tupla: \n",
      "1984727\n",
      "Roberto Silva\n",
      "25\n",
      "Educação Física\n"
     ]
    }
   ],
   "source": [
    "aluno1 = (198834, \"Alberto Messias\", 41, \"Ciência da Computação\")   # primeira tupla\n",
    "aluno2 = 1984727, \"Roberto Silva\", 25, \"Educação Física\"   # segunda tupla (sem parênteses!)\n",
    "\n",
    "print(\"Primeira tupla: \", aluno1, \"Tipo: \", type(aluno1))\n",
    "print(\"Segunda tupla: \", aluno2, \"Tipo: \", type(aluno2))\n",
    "\n",
    "print(\"Tamanho da primeira tupla: \", len(aluno1))\n",
    "\n",
    "print(\"Valor de uma posição da primeira tupla: \", aluno1[1])\n",
    "\n",
    "print(\"Uma fatia da segunda tupla: \", aluno2[1:3])\n",
    "\n",
    "print(\"Todos os elementos da segunda tupla: \")\n",
    "for elemento in aluno2:\n",
    "    print(elemento)"
   ]
  },
  {
   "cell_type": "markdown",
   "id": "e38fae68-82d4-4727-8f21-40f4853b4b4a",
   "metadata": {},
   "source": [
    "Temos as seguintes as operações com tuplas:\n",
    "\n",
    "- indexação(t[i]);\n",
    "- fatiamento (t[i:j:k]);\n",
    "- comprimento (len(t));\n",
    "- pertinência (x in t ou x not in t);\n",
    "- percorrimento com laço (for x in t);\n",
    "- concatenação (t + s);\n",
    "- replicação (t * n);\n",
    "- mínimo (min(t)) e máximo (max(t))"
   ]
  },
  {
   "cell_type": "markdown",
   "id": "366545ea-cb39-45ee-ac9f-63cd84e86e7b",
   "metadata": {},
   "source": [
    "### Atribuição de tuplas:\n"
   ]
  },
  {
   "cell_type": "code",
   "execution_count": 3,
   "id": "165755fb-fd17-4fa7-a6b1-9e4242c52169",
   "metadata": {},
   "outputs": [
    {
     "name": "stdout",
     "output_type": "stream",
     "text": [
      "Matrícula:  198834\n",
      "Nome:  Alberto Messias\n",
      "Idade: 41\n",
      "Curso: Ciência da Computação\n"
     ]
    }
   ],
   "source": [
    "aluno = (198834, \"Alberto Messias\", 41, \"Ciência da Computação\")\n",
    "mat, nome, idade, curso = aluno   # atribuição de tupla\n",
    "print(\"Matrícula: \", mat)\n",
    "print(\"Nome: \", nome)\n",
    "print(\"Idade:\", idade)\n",
    "print(\"Curso:\", curso)"
   ]
  },
  {
   "cell_type": "markdown",
   "id": "27f44ca4-6786-4f21-9522-7091c3560d46",
   "metadata": {},
   "source": [
    "### Percorrendo com laço:"
   ]
  },
  {
   "cell_type": "code",
   "execution_count": 5,
   "id": "9ea507d4-618d-4fe5-a20a-ff19eafa20c0",
   "metadata": {},
   "outputs": [
    {
     "name": "stdout",
     "output_type": "stream",
     "text": [
      "Sandro 23\n",
      "Alberto 41\n",
      "Arthur 22\n"
     ]
    }
   ],
   "source": [
    "alunos = [(\"Sandro\", 23), (\"Alberto\", 41), (\"Arthur\", 22)]    # lista de tuplas de alunos\n",
    "for nome_aluno, idade_aluno in alunos:\n",
    "    print(nome_aluno, idade_aluno)"
   ]
  },
  {
   "cell_type": "markdown",
   "id": "8e66da0c-2d0d-4b62-b74d-409585f83bed",
   "metadata": {},
   "source": [
    "### Named Tuples\n",
    "Named Tuples são objetos de fácil criação e leves. Instâncias de Named Tuples podem ser referenciadas utilizando variáveis. Elas podem serem utilizadas como uma espécie de estrutura para agruparmos dados."
   ]
  },
  {
   "cell_type": "code",
   "execution_count": 8,
   "id": "cf1b8bab-2b7f-43d9-b30a-16b57a63c5fe",
   "metadata": {},
   "outputs": [
    {
     "name": "stdout",
     "output_type": "stream",
     "text": [
      "Ponto(x=1.7, y=7.0)\n",
      "Ponto(x=3.7, y=1.8)\n"
     ]
    }
   ],
   "source": [
    "from collections import namedtuple\n",
    "Ponto = namedtuple('Ponto', 'x y')\n",
    "p1 = Ponto(1.7, 7.0)\n",
    "p2 = Ponto(3.7, 1.8)\n",
    "print (p1)\n",
    "print (p2)"
   ]
  },
  {
   "cell_type": "code",
   "execution_count": 10,
   "id": "7518bd7b-98ad-4b09-b3ea-60fbf7b0e775",
   "metadata": {},
   "outputs": [
    {
     "name": "stdout",
     "output_type": "stream",
     "text": [
      "Cor(red=55, green=155, blue=255)\n",
      "55\n"
     ]
    }
   ],
   "source": [
    "Cor = namedtuple('Cor', ['red', 'green', 'blue'])\n",
    "cor = Cor(55,155,255)\n",
    "print(cor) \n",
    "print(cor.red) "
   ]
  },
  {
   "cell_type": "markdown",
   "id": "d0c25dc2-b731-4b9d-8f00-0280c8d81128",
   "metadata": {},
   "source": [
    "### Dicionários \n",
    "o dict (de dictionary, ou dicionário em português) é usado para representar coleções.\n",
    "\n",
    "Um dicionário é um tipo abstrato de dados que associa uma chave a um valor. A chave precisa ser única, ou seja, não pode haver chaves repetidas dentro do dicionário. A chave também deve ser imutável, ou seja, uma vez criada, ela permanece a mesma. Portanto, pode-se usar como chave strings, números e tuplas, mas não listas. Já o valor pode ser de qualquer tipo do Python."
   ]
  },
  {
   "cell_type": "code",
   "execution_count": 11,
   "id": "65bce5f5-8627-4e59-ac9f-12e64581d255",
   "metadata": {},
   "outputs": [
    {
     "name": "stdout",
     "output_type": "stream",
     "text": [
      "{'nome': 'Alberto', 'idade': 41, 'curso': 'Ciência da Computação'}\n"
     ]
    }
   ],
   "source": [
    "aluno = {\n",
    "   \"nome\":\"Alberto\",\n",
    "   \"idade\":41,\n",
    "   \"curso\":\"Ciência da Computação\"\n",
    "}\n",
    "print (aluno)"
   ]
  },
  {
   "cell_type": "code",
   "execution_count": 14,
   "id": "6a061f1c-74a7-4962-94bf-c63a575abf77",
   "metadata": {},
   "outputs": [
    {
     "name": "stdout",
     "output_type": "stream",
     "text": [
      "{'nome': 'Alberto', 'idade': 41, 'curso': 'Ciência da Computação'}\n",
      "Alberto\n",
      "Ciência da Computação\n"
     ]
    }
   ],
   "source": [
    "print (aluno)\n",
    "print (aluno[\"nome\"])\n",
    "print (aluno[\"curso\"])"
   ]
  },
  {
   "cell_type": "code",
   "execution_count": 15,
   "id": "3edea130-0d6d-41c8-ad39-a8939f29971e",
   "metadata": {},
   "outputs": [
    {
     "name": "stdout",
     "output_type": "stream",
     "text": [
      "Alberto\n",
      "41\n",
      "Ciência da Computação\n"
     ]
    }
   ],
   "source": [
    "for chave in aluno: # Percorre os valores do dicionário\n",
    "   print(aluno[chave])"
   ]
  },
  {
   "cell_type": "code",
   "execution_count": 16,
   "id": "702e6d86-cee5-431c-b21c-922cf354f382",
   "metadata": {},
   "outputs": [
    {
     "name": "stdout",
     "output_type": "stream",
     "text": [
      "Alberto\n",
      "41\n",
      "Ciência da Computação\n"
     ]
    }
   ],
   "source": [
    "for p in aluno.values(): # Percorre os valores do dicionário\n",
    "   print(p) #"
   ]
  },
  {
   "cell_type": "markdown",
   "id": "57765b05-e1ec-4057-bb7c-64f42a1673c0",
   "metadata": {},
   "source": [
    "Podemos adicionar um novo atributo ao dicionário:"
   ]
  },
  {
   "cell_type": "code",
   "execution_count": 19,
   "id": "1038a160-d8c6-48a1-87b6-5e7b0c34c2a7",
   "metadata": {},
   "outputs": [],
   "source": [
    "aluno[\"semestre\"]=2"
   ]
  },
  {
   "cell_type": "code",
   "execution_count": 21,
   "id": "e68197d1-2261-432b-85bb-aedf1578e4aa",
   "metadata": {},
   "outputs": [
    {
     "name": "stdout",
     "output_type": "stream",
     "text": [
      "{'nome': 'Alberto', 'idade': 41, 'curso': 'Ciência da Computação', 'semestre': 2}\n"
     ]
    }
   ],
   "source": [
    "print (aluno)"
   ]
  },
  {
   "cell_type": "code",
   "execution_count": 22,
   "id": "e4bb8bcb-b593-4db8-bd91-8a78892b1937",
   "metadata": {},
   "outputs": [
    {
     "name": "stdout",
     "output_type": "stream",
     "text": [
      "{'nome': 'Alberto', 'idade': 41, 'curso': 'Ciência da Computação', 'semestre': 3}\n"
     ]
    }
   ],
   "source": [
    "aluno.update({'semestre':3})\n",
    "print (aluno)"
   ]
  },
  {
   "cell_type": "code",
   "execution_count": null,
   "id": "d2c5abe6-6261-4ec2-940d-626f79aaff73",
   "metadata": {},
   "outputs": [],
   "source": []
  }
 ],
 "metadata": {
  "kernelspec": {
   "display_name": "Python 3 (ipykernel)",
   "language": "python",
   "name": "python3"
  },
  "language_info": {
   "codemirror_mode": {
    "name": "ipython",
    "version": 3
   },
   "file_extension": ".py",
   "mimetype": "text/x-python",
   "name": "python",
   "nbconvert_exporter": "python",
   "pygments_lexer": "ipython3",
   "version": "3.12.2"
  }
 },
 "nbformat": 4,
 "nbformat_minor": 5
}
