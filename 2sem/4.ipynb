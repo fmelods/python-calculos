{
 "cells": [
  {
   "cell_type": "code",
   "execution_count": 29,
   "id": "797df836-b6a4-4054-8aba-82895f2271a3",
   "metadata": {},
   "outputs": [],
   "source": [
    "#### CRUD VEÍCULOS\n",
    "import datetime as dt\n",
    "veiculos = []\n",
    "categorias = (\"motor\",\"câmbio\",\"pneus\",\"freios\",\"suspenção\",\"arrefecimento\",\"funilaria\",\"elétrico\", \"tapeçaria\",\"revisão\")\n",
    "\n",
    "def create_car (cliente,modelo=\"vazio\",ano=\"vazio\", placa =\"vazio\",problema=\"vazio\",categoria=-1):\n",
    "    data = dt.datetime.now()\n",
    "    veiculo = {\n",
    "        \"cliente\":cliente,\n",
    "        \"data\":data,\n",
    "        \"modelo\":modelo,\n",
    "        \"ano\":ano,\n",
    "        \"placa\":placa,\n",
    "        \"problema\":problema,\n",
    "        \"categoria\":categoria\n",
    "    }\n",
    "    veiculos.append(veiculo)\n",
    "    return len(veiculos)\n",
    "    \n",
    "def read_car(indice=-1):\n",
    "    if indice >-1 and indice < len(veiculos):\n",
    "        return veiculos[indice]\n",
    "    else:\n",
    "        return veiculos\n",
    "\n",
    "def update_car (indice, cliente=\"vazio\",modelo=\"vazio\",ano=\"vazio\", placa = \"vazio\",problema=\"vazio\",categoria=-1,desc_reparo=\"vazio\"):\n",
    "    if indice < len(veiculos):\n",
    "        if cliente!=\"0\":\n",
    "            veiculos[indice].update({\"cliente\":cliente})\n",
    "        if modelo!=\"0\":\n",
    "            veiculos[indice].update({\"modelo\":modelo})\n",
    "        if ano!=\"0\":\n",
    "            veiculos[indice].update({\"ano\":ano})\n",
    "        if placa!=\"0\":\n",
    "            veiculos[indice].update({\"placa\":placa})\n",
    "        if problema!=\"0\":\n",
    "            veiculos[indice].update({\"problema\":problema})\n",
    "        if categoria!=\"0\":\n",
    "            veiculos[indice].update({\"categoria\":categoria})\n",
    "        if desc_reparo !=\"0\":\n",
    "            veiculos[indice][\"desc_reparo\"]=desc_reparo\n",
    "            veiculos[indice][\"data_saida\"] = dt.datetime.now()\n",
    "        return True\n",
    "    else:\n",
    "        return False\n",
    "    \n",
    "def delete_car (indice):\n",
    "    if indice < len(veiculos):\n",
    "        veiculos.pop(indice)\n",
    "        return True\n",
    "    else:\n",
    "        return False\n"
   ]
  },
  {
   "cell_type": "code",
   "execution_count": 30,
   "id": "479ba85b-3a66-4720-b8dc-bc15f339e645",
   "metadata": {},
   "outputs": [
    {
     "name": "stdout",
     "output_type": "stream",
     "text": [
      "1\n"
     ]
    }
   ],
   "source": [
    "print (create_car(\"Alberto\"))"
   ]
  },
  {
   "cell_type": "code",
   "execution_count": 31,
   "id": "4284e8cf-af85-463c-bddf-bffc276d2a03",
   "metadata": {},
   "outputs": [
    {
     "name": "stdout",
     "output_type": "stream",
     "text": [
      "[{'cliente': 'Alberto', 'data': datetime.datetime(2024, 8, 20, 20, 56, 11, 427697), 'modelo': 'vazio', 'ano': 'vazio', 'placa': 'vazio', 'problema': 'vazio', 'categoria': -1}]\n"
     ]
    }
   ],
   "source": [
    "print (read_car())"
   ]
  },
  {
   "cell_type": "code",
   "execution_count": 32,
   "id": "7ea1b0f2-dd02-488a-9329-22e8ea9f2bad",
   "metadata": {},
   "outputs": [
    {
     "name": "stdout",
     "output_type": "stream",
     "text": [
      "True\n",
      "[{'cliente': 'vazio', 'data': datetime.datetime(2024, 8, 20, 20, 56, 11, 427697), 'modelo': 'vazio', 'ano': 'vazio', 'placa': 'vazio', 'problema': 'vazio', 'categoria': -1, 'desc_reparo': 'teste descrição de reparo', 'data_saida': datetime.datetime(2024, 8, 20, 20, 56, 15, 556192)}]\n"
     ]
    }
   ],
   "source": [
    "print (update_car(0,desc_reparo=\"teste descrição de reparo\"))\n",
    "print (read_car())"
   ]
  },
  {
   "cell_type": "code",
   "execution_count": null,
   "id": "0bfce1dd-1b25-4ced-9972-7e0dd78c6575",
   "metadata": {},
   "outputs": [],
   "source": []
  }
 ],
 "metadata": {
  "kernelspec": {
   "display_name": "Python 3 (ipykernel)",
   "language": "python",
   "name": "python3"
  },
  "language_info": {
   "codemirror_mode": {
    "name": "ipython",
    "version": 3
   },
   "file_extension": ".py",
   "mimetype": "text/x-python",
   "name": "python",
   "nbconvert_exporter": "python",
   "pygments_lexer": "ipython3",
   "version": "3.12.2"
  }
 },
 "nbformat": 4,
 "nbformat_minor": 5
}
