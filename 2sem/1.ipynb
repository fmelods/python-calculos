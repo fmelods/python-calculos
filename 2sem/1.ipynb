{
 "cells": [
  {
   "cell_type": "markdown",
   "id": "13d8a6ae-d051-4a68-8fb2-70e3ead44d5e",
   "metadata": {},
   "source": [
    "### Criando o nosso CRUD para o exercício:\n",
    "\n",
    "Para todos os exercícios, utilizar o conceito de CRUD (create, read, update, delete). Crie as funções:\n",
    "\n",
    "•\tCREATE com todos os parâmetros e outra passando apenas o nome usual;\n",
    "\n",
    "•\tREAD com o ID de parâmetro e ele retorna apenas o resultado com o ID e outra sem parâmetros que retorna a lista completa;\n",
    "\n",
    "•\tUPDATE com o ID de parâmetro e outra com o nome usual como parâmetro;\n",
    "\n",
    "•\tDELETE com o ID de parâmetro e outra com o nome usual como parâmetro;\n",
    "\n",
    "## Descrição do exercício:\n",
    "Elabore um programa que permita ao usuário gerenciar uma pequena lista de contatos prioritários (capacidade máxima de 20 contatos).\n",
    "\n",
    "Cada contato deve possuir nome usual (o primeiro nome ou apelido da pessoa), o nome completo, telefone fixo e telefone celular. \n",
    "\n",
    "Construa um pequeno menu de opções, permitindo a leitura da opção desejada até o usuário escolher 0, para sair. O menu terá as seguintes opções:\n",
    "\n",
    "a.\t0 sair\n",
    "\n",
    "b.\t1 incluir um novo contato (adicione o novo contato na primeira posição livre vetor de registros, cuidando com o limite de 20 \n",
    "contatos);\n",
    "\n",
    "c.\t2 consultar um contato a partir do nome usual (ler o nome usual, procurar pelo contato, em encontrado, mostrar as informações detalhadas dos campos, se não encontrar, mostrar a mensagem de contato inexistente);\n",
    "\n",
    "d.\t3 exibir a listagem de todos os contatos em ordem alfabética de nome usuário (ou seja, antes de imprimir os contatos existente na lista, ordene o vetor em ordem alfabética ascendente de nome usual;\n",
    "Utilize vetores e crie funções específicas para a gestão dos contatos e exibição.\n",
    "\n",
    "\n",
    "### Segue o nosso CRUD:\n"
   ]
  },
  {
   "cell_type": "code",
   "execution_count": 5,
   "id": "c9e6e637-6b34-493a-9548-1436c0b504bf",
   "metadata": {},
   "outputs": [],
   "source": [
    "contatos = []\n",
    "def create (nome,nome_completo=\"vazio\",telefone=\"vazio\",celular=\"vazio\"):\n",
    "    if len(contatos) < 20:\n",
    "        contato = {\n",
    "               \"nome\":nome,\n",
    "               \"nome_completo\":nome_completo,\n",
    "                \"telefone\":telefone,\n",
    "                \"celular\":celular\n",
    "            }\n",
    "        contatos.append(contato)\n",
    "        return len(contatos)\n",
    "    else:\n",
    "        return -1\n",
    "\n",
    "def read(indice=-1):\n",
    "    if indice >-1 and indice < len(contatos):\n",
    "        return contatos[indice]\n",
    "    else:\n",
    "        return contatos\n",
    "\n",
    "def update (indice, nome=\"0\", nome_completo=\"0\",telefone=\"0\",celular=\"0\"):\n",
    "    if indice < len(contatos):\n",
    "        if nome!=\"0\":\n",
    "            contatos[indice].update({\"nome\":nome})\n",
    "        if nome_completo!=\"0\":\n",
    "            contatos[indice].update({\"nome_completo\":nome_completo})\n",
    "        if telefone!=\"0\":\n",
    "            contatos[indice].update({\"telefone\":telefone})\n",
    "        if celular!=\"0\":\n",
    "            contatos[indice].update({\"celular\":celular})\n",
    "        return True\n",
    "    else:\n",
    "        return False\n",
    "    \n",
    "def delete (indice):\n",
    "    if indice < len(contatos):\n",
    "        contatos.pop(indice)\n",
    "        return True\n",
    "    else:\n",
    "        return False"
   ]
  },
  {
   "cell_type": "code",
   "execution_count": 11,
   "id": "995b7900-e444-4a04-a9bb-4a9d3ef63f48",
   "metadata": {},
   "outputs": [
    {
     "name": "stdout",
     "output_type": "stream",
     "text": [
      "[{'nome': 'Alberto', 'nome_completo': 'vazio', 'telefone': 'vazio', 'celular': 'vazio'}]\n",
      "2\n",
      "[{'nome': 'Alberto', 'nome_completo': 'vazio', 'telefone': 'vazio', 'celular': 'vazio'}, {'nome': 'Alberto', 'nome_completo': 'vazio', 'telefone': 'vazio', 'celular': 'vazio'}]\n",
      "3\n",
      "[{'nome': 'Alberto', 'nome_completo': 'vazio', 'telefone': 'vazio', 'celular': 'vazio'}, {'nome': 'Alberto', 'nome_completo': 'vazio', 'telefone': 'vazio', 'celular': 'vazio'}, {'nome': 'Alberto2', 'nome_completo': 'vazio', 'telefone': 'vazio', 'celular': 'vazio'}]\n"
     ]
    }
   ],
   "source": [
    "print (contatos)\n",
    "print (create(\"Alberto\"))\n",
    "print (read())\n",
    "print (create(\"Alberto2\"))\n",
    "print (read())"
   ]
  },
  {
   "cell_type": "code",
   "execution_count": 12,
   "id": "eb3cbaec-8153-4a7b-a9dc-63e7f8da68b5",
   "metadata": {},
   "outputs": [
    {
     "name": "stdout",
     "output_type": "stream",
     "text": [
      "True\n",
      "{'nome': 'Alberto', 'nome_completo': 'Alberto Messias da Costa Souza', 'telefone': 'vazio', 'celular': '11999999'}\n",
      "\n",
      "Atualizando\n",
      "\n",
      "True\n",
      "{'nome': 'Alberto', 'nome_completo': 'Alberto Messias da Costa Souza', 'telefone': '1129160000', 'celular': '11999999'}\n"
     ]
    }
   ],
   "source": [
    "print (update(1,nome_completo=\"Alberto Messias da Costa Souza\", celular=\"11999999\"))\n",
    "print (read (1))\n",
    "print (\"\\nAtualizando\\n\")\n",
    "print (update(1,telefone=\"1129160000\"))\n",
    "print (read (1))\n",
    "\n"
   ]
  },
  {
   "cell_type": "code",
   "execution_count": 13,
   "id": "96a44350-2a1a-4480-b5fc-b35483419502",
   "metadata": {},
   "outputs": [
    {
     "name": "stdout",
     "output_type": "stream",
     "text": [
      "[{'nome': 'Alberto', 'nome_completo': 'vazio', 'telefone': 'vazio', 'celular': 'vazio'}, {'nome': 'Alberto', 'nome_completo': 'Alberto Messias da Costa Souza', 'telefone': '1129160000', 'celular': '11999999'}, {'nome': 'Alberto2', 'nome_completo': 'vazio', 'telefone': 'vazio', 'celular': 'vazio'}]\n",
      "[{'nome': 'Alberto', 'nome_completo': 'vazio', 'telefone': 'vazio', 'celular': 'vazio'}, {'nome': 'Alberto', 'nome_completo': 'Alberto Messias da Costa Souza', 'telefone': '1129160000', 'celular': '11999999'}, {'nome': 'Alberto2', 'nome_completo': 'vazio', 'telefone': 'vazio', 'celular': 'vazio'}]\n"
     ]
    }
   ],
   "source": [
    "print (read(6))\n",
    "print (read())"
   ]
  },
  {
   "cell_type": "code",
   "execution_count": 14,
   "id": "3a4668ce-c8ae-4d1c-b91d-dd160075b70d",
   "metadata": {},
   "outputs": [
    {
     "name": "stdout",
     "output_type": "stream",
     "text": [
      "True\n",
      "[{'nome': 'Alberto', 'nome_completo': 'vazio', 'telefone': 'vazio', 'celular': 'vazio'}, {'nome': 'Arthur', 'nome_completo': 'Arthur Messias', 'telefone': '11999999', 'celular': '11999999'}, {'nome': 'Alberto2', 'nome_completo': 'vazio', 'telefone': 'vazio', 'celular': 'vazio'}]\n",
      "True\n",
      "[{'nome': 'Alberto', 'nome_completo': 'vazio', 'telefone': 'vazio', 'celular': 'vazio'}, {'nome': 'Alberto2', 'nome_completo': 'vazio', 'telefone': 'vazio', 'celular': 'vazio'}]\n"
     ]
    }
   ],
   "source": [
    "print (update(1,nome=\"Arthur\",nome_completo=\"Arthur Messias\", telefone=\"11999999\"))\n",
    "print (read())\n",
    "print (delete(1))\n",
    "print (read())"
   ]
  },
  {
   "cell_type": "code",
   "execution_count": 15,
   "id": "dc196d0e-bbe1-48f1-b13a-1d0e2fcf9af4",
   "metadata": {},
   "outputs": [],
   "source": [
    "#### CRUD VEÍCULOS\n",
    "\n",
    "veiculos = []\n",
    "def create_car (proprietario,combustivel=\"vazio\",modelo=\"vazio\",cor=\"vazio\", ano=\"vazio\", placa = \"vazio\"):\n",
    "    if len(veiculos) < 20:\n",
    "        veiculo = {\n",
    "               \"proprietario\":proprietario,\n",
    "               \"combustivel\":combustivel,\n",
    "                \"modelo\":modelo,\n",
    "                \"cor\":cor,\n",
    "                \"ano\":ano,\n",
    "                \"placa\":placa\n",
    "            }\n",
    "        veiculos.append(veiculo)\n",
    "        return len(veiculos)\n",
    "    else:\n",
    "        return -1\n",
    "\n",
    "def read_car(indice=-1):\n",
    "    if indice >-1 and indice < len(veiculos):\n",
    "        return veiculos[indice]\n",
    "    else:\n",
    "        return veiculos\n",
    "\n",
    "def update_car (indice, proprietario=\"0\",combustivel=\"0\",modelo=\"0\",cor=\"0\", ano=\"0\", placa = \"0\"):\n",
    "    if indice < len(veiculos):\n",
    "        if proprietario!=\"0\":\n",
    "            veiculos[indice].update({\"proprietario\":proprietario})\n",
    "        if combustivel!=\"0\":\n",
    "            veiculos[indice].update({\"combustivel\":combustivel})\n",
    "        if modelo!=\"0\":\n",
    "            veiculos[indice].update({\"modelo\":modelo})\n",
    "        if cor!=\"0\":\n",
    "            veiculos[indice].update({\"cor\":cor})\n",
    "        if ano!=\"0\":\n",
    "            veiculos[indice].update({\"ano\":ano})\n",
    "        if placa!=\"0\":\n",
    "            veiculos[indice].update({\"placa\":placa})\n",
    "        return True\n",
    "    else:\n",
    "        return False\n",
    "    \n",
    "def delete_car (indice):\n",
    "    if indice < len(veiculos):\n",
    "        veiculos.pop(indice)\n",
    "        return True\n",
    "    else:\n",
    "        return False\n"
   ]
  },
  {
   "cell_type": "code",
   "execution_count": 16,
   "id": "dd6d4a84-3ed0-451e-90e8-1d122da104b0",
   "metadata": {},
   "outputs": [
    {
     "name": "stdout",
     "output_type": "stream",
     "text": [
      "1\n"
     ]
    }
   ],
   "source": [
    "print(create_car(\"Alberto\"))"
   ]
  },
  {
   "cell_type": "code",
   "execution_count": 17,
   "id": "389598d8-5d24-4895-a31b-5fcc23b799c6",
   "metadata": {},
   "outputs": [
    {
     "name": "stdout",
     "output_type": "stream",
     "text": [
      "[{'proprietario': 'Alberto', 'combustivel': 'vazio', 'modelo': 'vazio', 'cor': 'vazio', 'ano': 'vazio', 'placa': 'vazio'}]\n"
     ]
    }
   ],
   "source": [
    "print (read_car())"
   ]
  },
  {
   "cell_type": "code",
   "execution_count": 33,
   "id": "0ad29e05-0c29-4093-ae8f-b00a763f3d73",
   "metadata": {},
   "outputs": [
    {
     "name": "stdout",
     "output_type": "stream",
     "text": [
      "True\n",
      "4\n"
     ]
    }
   ],
   "source": [
    "print (update_car(0,proprietario=\"Alberto Messias\",combustivel=\"flex\",modelo=\"SPIN\",cor=\"PRATA\", ano=\"2020\", placa = \"DSK2A89\"))\n",
    "print (create_car(\"Alberto Messias\",combustivel=\"flex\",modelo=\"Monza\",cor=\"PRETO\", ano=\"1994\", placa = \"BFF2020\"))\n"
   ]
  },
  {
   "cell_type": "code",
   "execution_count": 35,
   "id": "ca75d38f-d094-4cad-9ed7-bb89ff13a9f6",
   "metadata": {},
   "outputs": [
    {
     "name": "stdout",
     "output_type": "stream",
     "text": [
      "Proprietário:Alberto Messias\n",
      "Modelo:SPIN\n",
      "Cor:PRATA\n",
      "Ano:2020\n",
      "\n",
      "Proprietário:Alberto Messias\n",
      "Modelo:Monza\n",
      "Cor:PRETO\n",
      "Ano:1994\n",
      "\n",
      "Proprietário:Alberto Messias\n",
      "Modelo:Monza\n",
      "Cor:PRETO\n",
      "Ano:1994\n",
      "\n",
      "Proprietário:Alberto Messias\n",
      "Modelo:Monza\n",
      "Cor:PRETO\n",
      "Ano:1994\n",
      "\n"
     ]
    }
   ],
   "source": [
    "\n",
    "\n",
    "for i in read_car():\n",
    "    print (f\"Proprietário:{i[\"proprietario\"]}\")\n",
    "    print (f\"Modelo:{i[\"modelo\"]}\")\n",
    "    print (f\"Cor:{i[\"cor\"]}\")\n",
    "    print (f\"Ano:{i[\"ano\"]}\\n\")\n",
    "    \n",
    "    "
   ]
  },
  {
   "cell_type": "code",
   "execution_count": null,
   "id": "f972a5f3-2292-4c8b-9659-257d55175911",
   "metadata": {},
   "outputs": [],
   "source": []
  }
 ],
 "metadata": {
  "kernelspec": {
   "display_name": "Python 3 (ipykernel)",
   "language": "python",
   "name": "python3"
  },
  "language_info": {
   "codemirror_mode": {
    "name": "ipython",
    "version": 3
   },
   "file_extension": ".py",
   "mimetype": "text/x-python",
   "name": "python",
   "nbconvert_exporter": "python",
   "pygments_lexer": "ipython3",
   "version": "3.12.2"
  }
 },
 "nbformat": 4,
 "nbformat_minor": 5
}
