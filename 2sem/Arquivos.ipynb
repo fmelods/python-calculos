{
 "cells": [
  {
   "cell_type": "code",
   "execution_count": 2,
   "id": "04954920-0e6b-49a7-b382-86a9cfc0c625",
   "metadata": {},
   "outputs": [
    {
     "name": "stdout",
     "output_type": "stream",
     "text": [
      "Conteúdo do arquivo 'arquivo.txt'\n",
      "\n",
      "OlÃ¡\n",
      "\n",
      "Mundo\n",
      "\n",
      "lendo\n",
      "\n",
      "em\n",
      "\n",
      "arquivo\n"
     ]
    }
   ],
   "source": [
    "nome_do_arquivo = \"arquivo.txt\"\n",
    "arquivo = open(nome_do_arquivo, 'r')  # abre o arquivo somente leitura\n",
    "print(\"Conteúdo do arquivo '%s'\\n\" %nome_do_arquivo)\n",
    "\n",
    "linha = arquivo.readline()      \n",
    "while linha != \"\":         # enquanto não chegou ao final do arquivo\n",
    "    print(linha)          \n",
    "    linha = arquivo.readline()      # lê uma nova linha do arquivo\n",
    "    \n",
    "arquivo.close()  # fechar o arquivo"
   ]
  },
  {
   "cell_type": "code",
   "execution_count": 4,
   "id": "5c4183be-d896-4a4f-bdf5-57a70aed397c",
   "metadata": {},
   "outputs": [
    {
     "name": "stdout",
     "output_type": "stream",
     "text": [
      "Conteúdo do arquivo 'arquivo.txt'\n",
      "\n",
      "OlÃ¡\n",
      "Mundo\n",
      "lendo    \n",
      "em       \n",
      "arquivo"
     ]
    }
   ],
   "source": [
    "nome_do_arquivo = \"arquivo.txt\"\n",
    "arquivo = open(nome_do_arquivo, 'r')  \n",
    "print(\"Conteúdo do arquivo '%s'\\n\" %nome_do_arquivo)\n",
    "\n",
    "linha = arquivo.readline()     \n",
    "while linha != \"\":             \n",
    "    print(linha, end=\"\")  # modificando o end do print apenas com \"\"\n",
    "    linha = arquivo.readline() \n",
    "    \n",
    "arquivo.close()  # depois do uso, fecha o arquivo"
   ]
  },
  {
   "cell_type": "code",
   "execution_count": null,
   "id": "6a8b3cc0-a092-47da-95b7-3863939ccdc6",
   "metadata": {},
   "outputs": [],
   "source": [
    "nome_do_arquivo = \"arquivo.txt\"\n",
    "arquivo = open(nome_do_arquivo, 'r')  # abre o arquivo para leitura\n",
    "print(\"Conteúdo do arquivo '%s'\\n\" %nome_do_arquivo)\n",
    "\n",
    "linha = arquivo.readline()      # lê uma linha do arquivo\n",
    "while linha != \"\":              # enquanto não chegou ao final do arquivo\n",
    "    print(linha.rstrip())          # imprime a linha \n",
    "    linha = arquivo.readline()     # lê uma nova linha do arquivo\n",
    "    \n",
    "arquivo.close()  # depois do uso, fecha o arquivo"
   ]
  },
  {
   "cell_type": "markdown",
   "id": "68802b99-1cb0-4387-8074-a55b83e3a3a9",
   "metadata": {},
   "source": [
    "### Codificação com UTF8"
   ]
  },
  {
   "cell_type": "code",
   "execution_count": 15,
   "id": "e8343fac-6713-4c02-a88b-957ece54f07d",
   "metadata": {},
   "outputs": [
    {
     "name": "stdout",
     "output_type": "stream",
     "text": [
      "Conteúdo do arquivo '../arquivo.txt'\n",
      "\n",
      "Olá\n",
      "Mundo\n",
      "lendo    \n",
      "em       \n",
      "arquivo"
     ]
    }
   ],
   "source": [
    "nome_do_arquivo = \"../arquivo.txt\"\n",
    "arquivo = open(nome_do_arquivo, 'r', encoding=\"utf8\")  # abre o arquivo para leitura\n",
    "print(\"Conteúdo do arquivo '%s'\\n\" %nome_do_arquivo)\n",
    "\n",
    "for linha in arquivo:      # percorre cada linha do arquivo\n",
    "    print(linha, end=\"\")    # imprime a linha\n",
    "    \n",
    "arquivo.close()  # depois do uso, fecha o arquivo"
   ]
  },
  {
   "cell_type": "markdown",
   "id": "0289350a-f128-4ff4-9f77-8e44885e041e",
   "metadata": {},
   "source": [
    "### Comando with"
   ]
  },
  {
   "cell_type": "code",
   "execution_count": 12,
   "id": "197e82e9-6d58-44d5-bf42-44a8e42f2a20",
   "metadata": {},
   "outputs": [
    {
     "name": "stdout",
     "output_type": "stream",
     "text": [
      "Conteúdo do arquivo 'musica.txt'\n",
      "\n",
      "Doente de amor\n",
      "Procurei remédio\n",
      "na vida noturna\n",
      "sccwFim!\n"
     ]
    }
   ],
   "source": [
    "nome_do_arquivo = \"musica.txt\"\n",
    "\n",
    "with open(nome_do_arquivo, 'r') as arquivo:     # abre o arquivo para leitura\n",
    "    # Corpo do WITH\n",
    "    print(\"Conteúdo do arquivo '%s'\\n\" %nome_do_arquivo)\n",
    "\n",
    "    for linha in arquivo:       # percorre cada linha do arquivo\n",
    "        print(linha, end=\"\")    # imprime a linha\n",
    "\n",
    "print(\"Fim!\")"
   ]
  },
  {
   "cell_type": "markdown",
   "id": "269d4e27-6665-4cd1-b545-71ff2cdd036d",
   "metadata": {},
   "source": [
    "### Abrindo o arquivo como escrita"
   ]
  },
  {
   "cell_type": "code",
   "execution_count": 14,
   "id": "ca15dd6c-55b3-47c2-b60e-ddb24327e703",
   "metadata": {},
   "outputs": [],
   "source": [
    "nome_do_arquivo = \"musica.txt\"\n",
    "arquivo = open(nome_do_arquivo, 'w')     # Cria ou abre o arquivo para escrita\n",
    "\n",
    "poeminha = [\"Doente de amor\",\"Procurei remédio\",\"na vida noturna\"]\n",
    "\n",
    "for linha in poeminha:\n",
    "    arquivo.write(linha)   # grava uma linha no arquivo\n",
    "    arquivo.write('\\n')    # coloca uma quebra de linha no final da linha do poema\n",
    "    \n",
    "arquivo.close()  # fecha o arquivo"
   ]
  },
  {
   "cell_type": "markdown",
   "id": "717a19e9-d9c3-447c-9d99-f6865280f964",
   "metadata": {},
   "source": [
    "### Modo append"
   ]
  },
  {
   "cell_type": "code",
   "execution_count": 12,
   "id": "d21cfbe7-1e7f-46e0-b8b5-98647a87bd1c",
   "metadata": {},
   "outputs": [],
   "source": [
    "nome_do_arquivo = \"musica.txt\"\n",
    "arquivo = open(nome_do_arquivo, 'a')   # Abre o arquivo para append (acréscimo)\n",
    "\n",
    "fim_letra = \"Com a flor da noite...\"\n",
    "arquivo.write(fim_letra)  \n",
    "    \n",
    "arquivo.close()  # depois do uso, fecha o arquivo"
   ]
  },
  {
   "cell_type": "markdown",
   "id": "6ffda516-4c30-45fd-946e-9314b2404303",
   "metadata": {},
   "source": [
    "### Captura e Tratamento de Exceções\n",
    "\n"
   ]
  },
  {
   "cell_type": "code",
   "execution_count": 18,
   "id": "338d0c6a-9704-4891-b7f4-1ab439adbdd7",
   "metadata": {},
   "outputs": [
    {
     "ename": "ZeroDivisionError",
     "evalue": "division by zero",
     "output_type": "error",
     "traceback": [
      "\u001b[1;31m---------------------------------------------------------------------------\u001b[0m",
      "\u001b[1;31mZeroDivisionError\u001b[0m                         Traceback (most recent call last)",
      "Cell \u001b[1;32mIn[18], line 1\u001b[0m\n\u001b[1;32m----> 1\u001b[0m \u001b[38;5;28mprint\u001b[39m (\u001b[38;5;241;43m1\u001b[39;49m\u001b[38;5;241;43m/\u001b[39;49m\u001b[38;5;241;43m0\u001b[39;49m)\n\u001b[0;32m      2\u001b[0m nome_do_arquivo \u001b[38;5;241m=\u001b[39m \u001b[38;5;124m\"\u001b[39m\u001b[38;5;124mnao_existe.txt\u001b[39m\u001b[38;5;124m\"\u001b[39m  \u001b[38;5;66;03m# nome que não corresponde a um arquivo existente\u001b[39;00m\n\u001b[0;32m      3\u001b[0m arquivo \u001b[38;5;241m=\u001b[39m \u001b[38;5;28mopen\u001b[39m(nome_do_arquivo, \u001b[38;5;124m'\u001b[39m\u001b[38;5;124mr\u001b[39m\u001b[38;5;124m'\u001b[39m)\n",
      "\u001b[1;31mZeroDivisionError\u001b[0m: division by zero"
     ]
    }
   ],
   "source": [
    "print (1/0)\n",
    "nome_do_arquivo = \"nao_existe.txt\"  # nome que não corresponde a um arquivo existente\n",
    "arquivo = open(nome_do_arquivo, 'r')\n"
   ]
  },
  {
   "cell_type": "code",
   "execution_count": null,
   "id": "50fcd904-e984-4775-a99f-86f3f30e8a8f",
   "metadata": {},
   "outputs": [],
   "source": []
  },
  {
   "cell_type": "code",
   "execution_count": 19,
   "id": "f05335db-4960-4bf5-8e04-f3dad2e0d42f",
   "metadata": {},
   "outputs": [
    {
     "name": "stdin",
     "output_type": "stream",
     "text": [
      "Informe o nome do arquivo:  kjkjkj\n"
     ]
    },
    {
     "name": "stdout",
     "output_type": "stream",
     "text": [
      "kjkjkj arquivo não encontrado!!!\n"
     ]
    },
    {
     "name": "stdin",
     "output_type": "stream",
     "text": [
      "Informe o nome do arquivo:  musica.txt\n"
     ]
    },
    {
     "name": "stdout",
     "output_type": "stream",
     "text": [
      "Conteúdo do arquivo 'musica.txt'\n",
      "\n",
      "Doente de amor\n",
      "Procurei remédio\n",
      "na vida noturna\n"
     ]
    }
   ],
   "source": [
    "abriu = False\n",
    "while not abriu:\n",
    "    nome_do_arquivo = input(\"Informe o nome do arquivo: \")\n",
    "    \n",
    "    try: \n",
    "        arquivo = open(nome_do_arquivo, 'r') \n",
    "    except FileNotFoundError:\n",
    "        print(nome_do_arquivo, \"arquivo não encontrado!!!\")\n",
    "    except Exception as err:\n",
    "        print(f\"Unexpected {err=}, {type(err)=}\")\n",
    "    else:\n",
    "        abriu = True\n",
    "        \n",
    "print(\"Conteúdo do arquivo '%s'\\n\" %nome_do_arquivo)\n",
    "\n",
    "for linha in arquivo:\n",
    "    print(linha,end=\"\")\n",
    "    \n",
    "arquivo.close()  # depois do uso, fecha o arquivo"
   ]
  },
  {
   "cell_type": "code",
   "execution_count": 20,
   "id": "59b58092-45c8-4e0b-b9f1-a96270bd8ab3",
   "metadata": {},
   "outputs": [
    {
     "name": "stdout",
     "output_type": "stream",
     "text": [
      "Could not convert data to an integer.\n"
     ]
    }
   ],
   "source": [
    "import sys\n",
    "\n",
    "try:\n",
    "    f = open('musica.txt')\n",
    "    s = f.readline()\n",
    "    i = int(s.strip())\n",
    "except OSError as err:\n",
    "    print(\"OS error:\", err)\n",
    "except ValueError:\n",
    "    print(\"Could not convert data to an integer.\")\n",
    "except Exception as err:\n",
    "    print(f\"Unexpected {err=}, {type(err)=}\")\n",
    "    raise"
   ]
  },
  {
   "cell_type": "markdown",
   "id": "848910ee-7d76-4927-810f-ed9e5aa7c1e0",
   "metadata": {},
   "source": [
    "### Problema\n",
    "Escreva um programa que leia um arquivo com notas de alunos.\n",
    "O arquivo tem o seguinte conteúdo:\n",
    "\n",
    "jose 10 15 20 30 40\n",
    "\n",
    "pedro 23 16 19 22\n",
    "\n",
    "suzana 8 22 17 14 32 17 24 21 2 9 11 17\n",
    "\n",
    "gisela 12 28 21 45 26 10\n",
    "\n",
    "joao 14 32 25 16 89\n",
    "\n",
    "A saída deverá ser formatada conforme a seguir:\n",
    "\n",
    "Digite o nome do arquivo: notas.txt\n",
    "\n",
    "Aluno: jose      Média = 23.000000\n",
    "\n",
    "Aluno: pedro     Média = 20.000000\n",
    "\n",
    "Aluno: suzana    Média = 16.166667\n",
    "\n",
    "Aluno: gisela    Média = 23.666667\n",
    "\n",
    "Aluno: joao      Média = 35.200000\n",
    "\n",
    "Média da turma = 23.606667\n",
    "\n",
    "\n",
    "## Dica:\n",
    "texto = \"Para ser  grande,\\t sê inteiro:\\tnada\\nTeu exagera    ou exclui.\"\n",
    "print(texto)\n",
    "\n",
    "print(\"----------\")\n",
    "\n",
    "print(\"Separando pelo caracter de espaço: \", texto.split(\" \"))\n",
    "\n",
    "print(\"Separando pelo caracter de tabulação: \", texto.split(\"\\t\"))\n",
    "\n",
    "print(\"Separando pelos caracteres brancos: \", texto.split())"
   ]
  },
  {
   "cell_type": "code",
   "execution_count": 17,
   "id": "944fce9c-771c-444d-9096-1a17fa839f05",
   "metadata": {},
   "outputs": [
    {
     "name": "stdout",
     "output_type": "stream",
     "text": [
      "Brincando com  espaços,\t tabulação :\ttabulação\n",
      "Quebra de linha    ou quaisquer caracteres.\n",
      "----------\n",
      "Separando pelo caracter de espaço:  ['Brincando', 'com', '', 'espaços,\\t', 'tabulação', ':\\ttabulação\\nQuebra', 'de', 'linha', '', '', '', 'ou', 'quaisquer', 'caracteres.']\n",
      "Separando pelo caracter de tabulação:  ['Brincando com  espaços,', ' tabulação :', 'tabulação\\nQuebra de linha    ou quaisquer caracteres.']\n",
      "Separando pelos caracteres brancos:  ['Brincando', 'com', 'espaços,', 'tabulação', ':', 'tabulação', 'Quebra', 'de', 'linha', 'ou', 'quaisquer', 'caracteres.']\n"
     ]
    }
   ],
   "source": [
    "texto = \"Brincando com  espaços,\\t tabulação :\\ttabulação\\nQuebra de linha    ou quaisquer caracteres.\"\n",
    "print(texto)\n",
    "print(\"----------\")\n",
    "print(\"Separando pelo caracter de espaço: \", texto.split(\" \"))\n",
    "print(\"Separando pelo caracter de tabulação: \", texto.split(\"\\t\"))\n",
    "print(\"Separando pelos caracteres brancos: \", texto.split())"
   ]
  },
  {
   "cell_type": "code",
   "execution_count": null,
   "id": "2757fbbe-d334-45c5-b435-70aead354684",
   "metadata": {},
   "outputs": [],
   "source": []
  },
  {
   "cell_type": "code",
   "execution_count": 16,
   "id": "3a7d28a3-878e-4771-9ad0-0a52217e4d3d",
   "metadata": {},
   "outputs": [
    {
     "name": "stdin",
     "output_type": "stream",
     "text": [
      "Digite o nome do arquivo:  notas.txt\n"
     ]
    },
    {
     "name": "stdout",
     "output_type": "stream",
     "text": [
      "Aluno: jose \t Média = 23.000000\n",
      "Aluno: jose \t Média = 23.000000\n",
      "Aluno: pedro \t Média = 20.000000\n",
      "Aluno: suzana \t Média = 16.166667\n",
      "Aluno: gisela \t Média = 23.666667\n",
      "Aluno: joao \t Média = 35.200000\n",
      "Aluno: jose \t Média = 23.000000\n",
      "Aluno: jose \t Média = 23.000000\n",
      "Aluno: pedro \t Média = 20.000000\n",
      "Aluno: suzana \t Média = 16.166667\n",
      "Aluno: gisela \t Média = 23.666667\n",
      "Aluno: joao \t Média = 35.200000\n",
      "Aluno: jose \t Média = 23.000000\n",
      "Aluno: jose \t Média = 23.000000\n",
      "Aluno: pedro \t Média = 20.000000\n",
      "Aluno: suzana \t Média = 16.166667\n",
      "Aluno: gisela \t Média = 23.666667\n",
      "Aluno: joao \t Média = 35.200000\n",
      "Aluno: jose \t Média = 23.000000\n",
      "Aluno: jose \t Média = 23.000000\n",
      "Aluno: pedro \t Média = 20.000000\n",
      "Aluno: suzana \t Média = 16.166667\n",
      "Aluno: gisela \t Média = 23.666667\n",
      "Aluno: joao \t Média = 35.200000\n",
      "Aluno: jose \t Média = 23.000000\n",
      "Aluno: jose \t Média = 23.000000\n",
      "Aluno: pedro \t Média = 20.000000\n",
      "Aluno: suzana \t Média = 16.166667\n",
      "Aluno: gisela \t Média = 23.666667\n",
      "Aluno: joao \t Média = 35.200000\n",
      "Aluno: jose \t Média = 23.000000\n",
      "Aluno: jose \t Média = 23.000000\n",
      "Aluno: pedro \t Média = 20.000000\n",
      "Aluno: suzana \t Média = 16.166667\n",
      "Aluno: gisela \t Média = 23.666667\n",
      "Aluno: joao \t Média = 35.200000\n",
      "Aluno: jose \t Média = 23.000000\n",
      "Aluno: jose \t Média = 23.000000\n",
      "Aluno: pedro \t Média = 20.000000\n",
      "Aluno: suzana \t Média = 16.166667\n",
      "Aluno: gisela \t Média = 23.666667\n",
      "Aluno: joao \t Média = 35.200000\n",
      "Aluno: jose \t Média = 23.000000\n",
      "Aluno: jose \t Média = 23.000000\n",
      "Aluno: pedro \t Média = 20.000000\n",
      "Aluno: suzana \t Média = 16.166667\n",
      "Aluno: gisela \t Média = 23.666667\n",
      "Aluno: joao \t Média = 35.200000\n",
      "Aluno: jose \t Média = 23.000000\n",
      "Aluno: jose \t Média = 23.000000\n",
      "Aluno: pedro \t Média = 20.000000\n",
      "Aluno: suzana \t Média = 16.166667\n",
      "Aluno: gisela \t Média = 23.666667\n",
      "Aluno: joao \t Média = 35.200000\n",
      "Aluno: jose \t Média = 23.000000\n",
      "Aluno: jose \t Média = 23.000000\n",
      "Aluno: pedro \t Média = 20.000000\n",
      "Aluno: suzana \t Média = 16.166667\n",
      "Aluno: gisela \t Média = 23.666667\n",
      "Aluno: joao \t Média = 35.200000\n",
      "Aluno: jose \t Média = 23.000000\n",
      "Aluno: jose \t Média = 23.000000\n",
      "Aluno: pedro \t Média = 20.000000\n",
      "Aluno: suzana \t Média = 16.166667\n",
      "Aluno: gisela \t Média = 23.666667\n",
      "Aluno: joao \t Média = 35.200000\n",
      "Aluno: jose \t Média = 23.000000\n",
      "Aluno: jose \t Média = 23.000000\n",
      "Aluno: pedro \t Média = 20.000000\n",
      "Aluno: suzana \t Média = 16.166667\n",
      "Aluno: gisela \t Média = 23.666667\n",
      "Aluno: joao \t Média = 35.200000\n",
      "Aluno: jose \t Média = 23.000000\n",
      "Aluno: jose \t Média = 23.000000\n",
      "Aluno: pedro \t Média = 20.000000\n",
      "Aluno: suzana \t Média = 16.166667\n",
      "Aluno: gisela \t Média = 23.666667\n",
      "Aluno: joao \t Média = 35.200000\n",
      "Aluno: jose \t Média = 23.000000\n",
      "Aluno: jose \t Média = 23.000000\n",
      "Aluno: pedro \t Média = 20.000000\n",
      "Aluno: suzana \t Média = 16.166667\n",
      "Aluno: gisela \t Média = 23.666667\n",
      "Aluno: joao \t Média = 35.200000\n",
      "Aluno: jose \t Média = 23.000000\n",
      "Aluno: jose \t Média = 23.000000\n",
      "Aluno: pedro \t Média = 20.000000\n",
      "Aluno: suzana \t Média = 16.166667\n",
      "Aluno: gisela \t Média = 23.666667\n",
      "Aluno: joao \t Média = 35.200000\n",
      "Aluno: jose \t Média = 23.000000\n",
      "Aluno: jose \t Média = 23.000000\n",
      "Aluno: pedro \t Média = 20.000000\n",
      "Aluno: suzana \t Média = 16.166667\n",
      "Aluno: gisela \t Média = 23.666667\n",
      "Aluno: joao \t Média = 35.200000\n",
      "Aluno: jose \t Média = 23.000000\n",
      "Aluno: jose \t Média = 23.000000\n",
      "Aluno: pedro \t Média = 20.000000\n",
      "Aluno: suzana \t Média = 16.166667\n",
      "Aluno: gisela \t Média = 23.666667\n",
      "Aluno: joao \t Média = 35.200000\n",
      "Aluno: jose \t Média = 23.000000\n",
      "Aluno: jose \t Média = 23.000000\n",
      "Aluno: pedro \t Média = 20.000000\n",
      "Aluno: suzana \t Média = 16.166667\n",
      "Aluno: gisela \t Média = 23.666667\n",
      "Aluno: joao \t Média = 35.200000\n",
      "Aluno: jose \t Média = 23.000000\n",
      "Aluno: jose \t Média = 23.000000\n",
      "Aluno: pedro \t Média = 20.000000\n",
      "Aluno: suzana \t Média = 16.166667\n",
      "Aluno: gisela \t Média = 23.666667\n",
      "Aluno: joao \t Média = 35.200000\n",
      "Aluno: jose \t Média = 23.000000\n",
      "Aluno: jose \t Média = 23.000000\n",
      "Aluno: pedro \t Média = 20.000000\n",
      "Aluno: suzana \t Média = 16.166667\n",
      "Aluno: gisela \t Média = 23.666667\n",
      "Aluno: joao \t Média = 35.200000\n",
      "Aluno: jose \t Média = 23.000000\n",
      "Aluno: jose \t Média = 23.000000\n",
      "Aluno: pedro \t Média = 20.000000\n",
      "Aluno: suzana \t Média = 16.166667\n",
      "Aluno: gisela \t Média = 23.666667\n",
      "Aluno: joao \t Média = 35.200000\n",
      "Aluno: jose \t Média = 23.000000\n",
      "Aluno: jose \t Média = 23.000000\n",
      "Aluno: pedro \t Média = 20.000000\n",
      "Aluno: suzana \t Média = 16.166667\n",
      "Aluno: gisela \t Média = 23.666667\n",
      "Aluno: joao \t Média = 35.200000\n",
      "Aluno: jose \t Média = 23.000000\n",
      "Aluno: jose \t Média = 23.000000\n",
      "Aluno: pedro \t Média = 20.000000\n",
      "Aluno: suzana \t Média = 16.166667\n",
      "Aluno: gisela \t Média = 23.666667\n",
      "Aluno: joao \t Média = 35.200000\n",
      "Aluno: jose \t Média = 23.000000\n",
      "Aluno: jose \t Média = 23.000000\n",
      "Aluno: pedro \t Média = 20.000000\n",
      "Aluno: suzana \t Média = 16.166667\n",
      "Aluno: gisela \t Média = 23.666667\n",
      "Aluno: joao \t Média = 35.200000\n",
      "Aluno: jose \t Média = 23.000000\n",
      "Aluno: jose \t Média = 23.000000\n",
      "Aluno: pedro \t Média = 20.000000\n",
      "Aluno: suzana \t Média = 16.166667\n",
      "Aluno: gisela \t Média = 23.666667\n",
      "Aluno: joao \t Média = 35.200000\n",
      "Aluno: jose \t Média = 23.000000\n",
      "Aluno: jose \t Média = 23.000000\n",
      "Aluno: pedro \t Média = 20.000000\n",
      "Aluno: suzana \t Média = 16.166667\n",
      "Aluno: gisela \t Média = 23.666667\n",
      "Aluno: joao \t Média = 35.200000\n",
      "Aluno: jose \t Média = 23.000000\n",
      "Aluno: jose \t Média = 23.000000\n",
      "Aluno: pedro \t Média = 20.000000\n",
      "Aluno: suzana \t Média = 16.166667\n",
      "Aluno: gisela \t Média = 23.666667\n",
      "Aluno: joao \t Média = 35.200000\n",
      "Média da turma = 23.505556\n",
      "Total de médias processadas: 162\n"
     ]
    }
   ],
   "source": [
    "def main():\n",
    "    nome = input(\"Digite o nome do arquivo: \")\n",
    "\n",
    "    try:\n",
    "        arquivo = open(nome, 'r')   # abre o arquivo para leitura\n",
    "    except:\n",
    "        print(\"Não consegui abrir o arquivo %s\" %(nome))\n",
    "    else:\n",
    "        try:\n",
    "            total = 0\n",
    "            cont_alunos = 0\n",
    "            for linha in arquivo:\n",
    "                dados = linha.split(\";\")\n",
    "                notas = dados[1:]\n",
    "                soma = 0\n",
    "                for n in notas:\n",
    "                    try:\n",
    "                        soma += float(n)\n",
    "                    except Exception as error:\n",
    "                        print (\"Não foi possível processar esta linha do arquivo, verifique a sintaxe!!!\")\n",
    "                        #print(f\"Unexpected {error=}, {type(error)=}\")\n",
    "                try:        \n",
    "                    media = soma/len(notas)\n",
    "                    print(\"Aluno: %s \\t Média = %f\"%(dados[0],media))\n",
    "                except:\n",
    "                    print (\"Erro ao calcular a média do aluno\")\n",
    "                total += media\n",
    "                cont_alunos += 1\n",
    "        except Exception as err:\n",
    "            print(f\"Unexpected {err=}, {type(err)=}\")\n",
    "            raise\n",
    "        print(\"Média da turma = %f\"%(total/cont_alunos))\n",
    "        print (f\"Total de médias processadas: {cont_alunos}\")\n",
    "        arquivo.close()  # fecha o arquivo \n",
    "\n",
    "main()"
   ]
  },
  {
   "cell_type": "code",
   "execution_count": null,
   "id": "a56e1d63-f6b9-4252-8614-fef19f8345e5",
   "metadata": {},
   "outputs": [],
   "source": []
  }
 ],
 "metadata": {
  "kernelspec": {
   "display_name": "Python 3 (ipykernel)",
   "language": "python",
   "name": "python3"
  },
  "language_info": {
   "codemirror_mode": {
    "name": "ipython",
    "version": 3
   },
   "file_extension": ".py",
   "mimetype": "text/x-python",
   "name": "python",
   "nbconvert_exporter": "python",
   "pygments_lexer": "ipython3",
   "version": "3.12.2"
  }
 },
 "nbformat": 4,
 "nbformat_minor": 5
}
